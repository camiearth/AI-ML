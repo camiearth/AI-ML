{
  "nbformat": 4,
  "nbformat_minor": 0,
  "metadata": {
    "colab": {
      "provenance": []
    },
    "kernelspec": {
      "name": "python3",
      "display_name": "Python 3"
    },
    "language_info": {
      "name": "python"
    }
  },
  "cells": [
    {
      "cell_type": "markdown",
      "source": [
        "##Chemistry Chatbot\n",
        "\n"
      ],
      "metadata": {
        "id": "HEMQYQeXyxg-"
      }
    },
    {
      "cell_type": "code",
      "execution_count": null,
      "metadata": {
        "colab": {
          "base_uri": "https://localhost:8080/"
        },
        "id": "c4UUxYzCw4XZ",
        "outputId": "fa941112-2a36-4b9e-a4ba-834b646e5dd4"
      },
      "outputs": [
        {
          "metadata": {
            "tags": null
          },
          "name": "stdout",
          "output_type": "stream",
          "text": [
            "Chatbot: The chemical symbol for water is H2O.\n",
            "Chatbot: The atomic number of carbon is 6.\n",
            "Chatbot: The formula for sulfuric acid is H2SO4.\n"
          ]
        }
      ],
      "source": [
        "import spacy\n",
        "\n",
        "# Load the English NLP model from spaCy\n",
        "nlp = spacy.load(\"en_core_web_sm\")\n",
        "\n",
        "# Define an extended knowledge base with chemistry-related questions and answers\n",
        "knowledge_base = {\n",
        "    \"what is the chemical symbol for water\": \"The chemical symbol for water is H2O.\",\n",
        "    \"what is the atomic number of carbon\": \"The atomic number of carbon is 6.\",\n",
        "    \"what is the formula for sulfuric acid\": \"The formula for sulfuric acid is H2SO4.\",\n",
        "    # Add more chemistry-related questions and answers here\n",
        "}\n",
        "\n",
        "# Function to get an answer to a question\n",
        "def get_answer(question):\n",
        "    # Process the question using spaCy\n",
        "    doc = nlp(question)\n",
        "\n",
        "    # Find a matching question in the knowledge base\n",
        "    for key in knowledge_base:\n",
        "        if key in question:\n",
        "            return knowledge_base[key]\n",
        "\n",
        "    # If no matching question is found, return a default response\n",
        "    return \"I'm sorry, I don't know the answer to that question.\"\n",
        "\n",
        "# Main loop for the chatbot\n",
        "while True:\n",
        "    user_input = input(\"You: \")\n",
        "    if user_input.lower() == \"exit\":\n",
        "        break\n",
        "    answer = get_answer(user_input)\n",
        "    print(\"Chatbot: \" + answer)"
      ]
    }
  ]
}